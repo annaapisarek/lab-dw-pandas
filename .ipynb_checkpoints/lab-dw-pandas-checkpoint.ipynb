{
 "cells": [
  {
   "cell_type": "markdown",
   "id": "25d7736c-ba17-4aff-b6bb-66eba20fbf4e",
   "metadata": {},
   "source": [
    "# Lab | Pandas"
   ]
  },
  {
   "cell_type": "markdown",
   "id": "d1973e9e-8be6-4039-b70e-d73ee0d94c99",
   "metadata": {},
   "source": [
    "In this lab, we will be working with the customer data from an insurance company, which can be found in the CSV file located at the following link: https://raw.githubusercontent.com/data-bootcamp-v4/data/main/file1.csv\n",
    "\n",
    "The data includes information such as customer ID, state, gender, education, income, and other variables that can be used to perform various analyses.\n",
    "\n",
    "Throughout the lab, we will be using the pandas library in Python to manipulate and analyze the data. Pandas is a powerful library that provides various data manipulation and analysis tools, including the ability to load and manipulate data from a variety of sources, including CSV files."
   ]
  },
  {
   "cell_type": "markdown",
   "id": "8045146f-f4f7-44d9-8cd9-130d6400c73a",
   "metadata": {},
   "source": [
    "### Data Description\n",
    "\n",
    "- Customer - Customer ID\n",
    "\n",
    "- ST - State where customers live\n",
    "\n",
    "- Gender - Gender of the customer\n",
    "\n",
    "- Education - Background education of customers \n",
    "\n",
    "- Customer Lifetime Value - Customer lifetime value(CLV) is the total revenue the client will derive from their entire relationship with a customer. In other words, is the predicted or calculated value of a customer over their entire duration as a policyholder with the insurance company. It is an estimation of the net profit that the insurance company expects to generate from a customer throughout their relationship with the company. Customer Lifetime Value takes into account factors such as the duration of the customer's policy, premium payments, claim history, renewal likelihood, and potential additional services or products the customer may purchase. It helps insurers assess the long-term profitability and value associated with retaining a particular customer.\n",
    "\n",
    "- Income - Customers income\n",
    "\n",
    "- Monthly Premium Auto - Amount of money the customer pays on a monthly basis as a premium for their auto insurance coverage. It represents the recurring cost that the insured person must pay to maintain their insurance policy and receive coverage for potential damages, accidents, or other covered events related to their vehicle.\n",
    "\n",
    "- Number of Open Complaints - Number of complaints the customer opened\n",
    "\n",
    "- Policy Type - There are three type of policies in car insurance (Corporate Auto, Personal Auto, and Special Auto)\n",
    "\n",
    "- Vehicle Class - Type of vehicle classes that customers have Two-Door Car, Four-Door Car SUV, Luxury SUV, Sports Car, and Luxury Car\n",
    "\n",
    "- Total Claim Amount - the sum of all claims made by the customer. It represents the total monetary value of all approved claims for incidents such as accidents, theft, vandalism, or other covered events.\n"
   ]
  },
  {
   "cell_type": "markdown",
   "id": "3a72419b-20fc-4905-817a-8c83abc59de6",
   "metadata": {},
   "source": [
    "External Resources: https://towardsdatascience.com/filtering-data-frames-in-pandas-b570b1f834b9"
   ]
  },
  {
   "cell_type": "markdown",
   "id": "8f8ece17-e919-4e23-96c0-c7c59778436a",
   "metadata": {},
   "source": [
    "## Challenge 1: Understanding the data\n",
    "\n",
    "In this challenge, you will use pandas to explore a given dataset. Your task is to gain a deep understanding of the data by analyzing its characteristics, dimensions, and statistical properties."
   ]
  },
  {
   "cell_type": "markdown",
   "id": "91437bd5-59a6-49c0-8150-ef0e6e6eb253",
   "metadata": {},
   "source": [
    "- Identify the dimensions of the dataset by determining the number of rows and columns it contains.\n",
    "- Determine the data types of each column and evaluate whether they are appropriate for the nature of the variable. You should also provide suggestions for fixing any incorrect data types.\n",
    "- Identify the number of unique values for each column and determine which columns appear to be categorical. You should also describe the unique values of each categorical column and the range of values for numerical columns, and give your insights.\n",
    "- Compute summary statistics such as mean, median, mode, standard deviation, and quartiles to understand the central tendency and distribution of the data for numerical columns. You should also provide your conclusions based on these summary statistics.\n",
    "- Compute summary statistics for categorical columns and providing your conclusions based on these statistics."
   ]
  },
  {
   "cell_type": "code",
   "execution_count": 42,
   "id": "dd4e8cd8-a6f6-486c-a5c4-1745b0c035f4",
   "metadata": {},
   "outputs": [
    {
     "name": "stdout",
     "output_type": "stream",
     "text": [
      "             Income  Monthly Premium Auto  Total Claim Amount\n",
      "count   1071.000000           1071.000000         1071.000000\n",
      "mean   39295.701214            193.234360          404.986909\n",
      "std    30469.427060           1601.190369          293.027260\n",
      "min        0.000000             61.000000            0.382107\n",
      "25%    14072.000000             68.000000          202.157702\n",
      "50%    36234.000000             83.000000          354.729129\n",
      "75%    64631.000000            109.500000          532.800000\n",
      "max    99960.000000          35354.000000         2893.239678\n",
      "Customer\n",
      "RB50392    1\n",
      "HJ15383    1\n",
      "AO74776    1\n",
      "HQ82233    1\n",
      "OL72737    1\n",
      "          ..\n",
      "RO26085    1\n",
      "ES57969    1\n",
      "JK55587    1\n",
      "RN97635    1\n",
      "MY31220    1\n",
      "Name: count, Length: 1071, dtype: int64\n",
      "Customer\n",
      "RB50392    0.093371\n",
      "HJ15383    0.093371\n",
      "AO74776    0.093371\n",
      "HQ82233    0.093371\n",
      "OL72737    0.093371\n",
      "             ...   \n",
      "RO26085    0.093371\n",
      "ES57969    0.093371\n",
      "JK55587    0.093371\n",
      "RN97635    0.093371\n",
      "MY31220    0.093371\n",
      "Name: proportion, Length: 1071, dtype: float64\n",
      "ST\n",
      "Oregon        320\n",
      "California    211\n",
      "Arizona       186\n",
      "Cali          120\n",
      "Nevada         98\n",
      "Washington     81\n",
      "WA             30\n",
      "AZ             25\n",
      "Name: count, dtype: int64\n",
      "ST\n",
      "Oregon        29.878618\n",
      "California    19.701214\n",
      "Arizona       17.366947\n",
      "Cali          11.204482\n",
      "Nevada         9.150327\n",
      "Washington     7.563025\n",
      "WA             2.801120\n",
      "AZ             2.334267\n",
      "Name: proportion, dtype: float64\n",
      "GENDER\n",
      "F         457\n",
      "M         413\n",
      "Male       39\n",
      "female     28\n",
      "Femal      17\n",
      "Name: count, dtype: int64\n",
      "GENDER\n",
      "F         47.903564\n",
      "M         43.291405\n",
      "Male       4.088050\n",
      "female     2.935010\n",
      "Femal      1.781971\n",
      "Name: proportion, dtype: float64\n",
      "Education\n",
      "Bachelor                324\n",
      "College                 313\n",
      "High School or Below    296\n",
      "Master                   94\n",
      "Doctor                   37\n",
      "Bachelors                 7\n",
      "Name: count, dtype: int64\n",
      "Education\n",
      "Bachelor                30.252101\n",
      "College                 29.225023\n",
      "High School or Below    27.637722\n",
      "Master                   8.776844\n",
      "Doctor                   3.454715\n",
      "Bachelors                0.653595\n",
      "Name: proportion, dtype: float64\n",
      "Policy Type\n",
      "Personal Auto     780\n",
      "Corporate Auto    234\n",
      "Special Auto       57\n",
      "Name: count, dtype: int64\n",
      "Policy Type\n",
      "Personal Auto     72.829132\n",
      "Corporate Auto    21.848739\n",
      "Special Auto       5.322129\n",
      "Name: proportion, dtype: float64\n",
      "Vehicle Class\n",
      "Four-Door Car    576\n",
      "Two-Door Car     205\n",
      "SUV              199\n",
      "Sports Car        57\n",
      "Luxury SUV        20\n",
      "Luxury Car        14\n",
      "Name: count, dtype: int64\n",
      "Vehicle Class\n",
      "Four-Door Car    53.781513\n",
      "Two-Door Car     19.140990\n",
      "SUV              18.580766\n",
      "Sports Car        5.322129\n",
      "Luxury SUV        1.867414\n",
      "Luxury Car        1.307190\n",
      "Name: proportion, dtype: float64\n"
     ]
    }
   ],
   "source": [
    "# Load dataset \n",
    "import pandas as pd\n",
    "url = 'https://raw.githubusercontent.com/data-bootcamp-v4/data/main/file1.csv'\n",
    "df = pd.read_csv(url)\n",
    "\n",
    "#determine data types\n",
    "df.dtypes\n",
    "\"\"\"\n",
    "Customer                      object\n",
    "ST                            object -> messy data, mix of full state names and abbreviations \n",
    "GENDER                        object -> messy data, mix of full state names and abbreviations \n",
    "Education                     object\n",
    "Customer Lifetime Value       object -> should be float\n",
    "Income                       float64 \n",
    "Monthly Premium Auto         float64\n",
    "Number of Open Complaints     object -> should be integer\n",
    "Policy Type                   object \n",
    "Vehicle Class                 object\n",
    "Total Claim Amount           float64\n",
    "dtype: object\n",
    "\"\"\"\n",
    "\n",
    "#identify the number of unique values for each column and determine which columns appear to be categorical.\n",
    "df[\"Customer\"].value_counts()\n",
    "df[\"ST\"].value_counts() # categorical\n",
    "df[\"GENDER\"].value_counts() # categorical\n",
    "df[\"Education\"].value_counts() #categorical\n",
    "df[\"Customer Lifetime Value\"].value_counts()\n",
    "df[\"Income\"].value_counts()\n",
    "df[\"Monthly Premium Auto\"].value_counts()\n",
    "df[\"Number of Open Complaints\"].value_counts()\n",
    "df[\"Policy Type\"].value_counts()\n",
    "df[\"Vehicle Class\"].value_counts() #categorical\n",
    "df[\"Total Claim Amount\"].value_counts()\n",
    "\n",
    "#compute summary statistics such as mean, median, mode, standard deviation, and quartiles to understand the central tendency and distribution of the data for numerical columns. You should also provide your conclusions based on these summary statistics.\n",
    "print(df.describe())\n",
    "\n",
    "\"\"\"\n",
    "the mean claim amout is 404 but it deviates a lot across the data set\n",
    "mean income is almost 40k but the highest is more than double of that, and some customers have no income \n",
    "\n",
    "\n",
    "\"\"\"\n",
    "\n",
    "#Compute summary statistics for categorical columns and providing your conclusions based on these statistics.\n",
    "categorical_columns = ['Customer', 'ST', 'GENDER', 'Education', 'Policy Type', 'Vehicle Class']\n",
    "\n",
    "for col in categorical_columns:\n",
    "    freq = df[col].value_counts()\n",
    "    perc = df[col].value_counts(normalize=True) * 100\n",
    "    print(freq)\n",
    "    print(perc)\n",
    "\n",
    "\"\"\"\n",
    "30% of cases in the data set are in Oregon, 20% in California\n",
    "equal distribution between men and women\n",
    "over 40% have university level education\n",
    "72% personal cars\n",
    "over 50% are 4 door cars\n",
    "\n",
    "\n",
    "\"\"\"\n"
   ]
  },
  {
   "cell_type": "markdown",
   "id": "4a703890-63db-4944-b7ab-95a4f8185120",
   "metadata": {},
   "source": [
    "## Challenge 2: analyzing the data"
   ]
  },
  {
   "cell_type": "markdown",
   "id": "0776a403-c56a-452f-ac33-5fd4fdb06fc7",
   "metadata": {},
   "source": [
    "### Exercise 1"
   ]
  },
  {
   "cell_type": "markdown",
   "id": "eedbc484-da4d-4f9c-9343-e1d44311a87e",
   "metadata": {},
   "source": [
    "The marketing team wants to know the top 5 less common customer locations. Create a pandas Series object that contains the customer locations and their frequencies, and then retrieve the top 5 less common locations in ascending order."
   ]
  },
  {
   "cell_type": "code",
   "execution_count": 56,
   "id": "2dca5073-4520-4f42-9390-4b92733284ed",
   "metadata": {},
   "outputs": [
    {
     "data": {
      "text/plain": [
       "ST\n",
       "AZ             25\n",
       "WA             30\n",
       "Washington     81\n",
       "Nevada         98\n",
       "Cali          120\n",
       "Name: count, dtype: int64"
      ]
     },
     "execution_count": 56,
     "metadata": {},
     "output_type": "execute_result"
    }
   ],
   "source": [
    "count_series = df[\"ST\"].value_counts()\n",
    "\n",
    "count_series.sort_values(ascending=True, inplace=True)\n",
    "\n",
    "count_series[0:5]\n",
    "\n",
    "#note: AZ = Arizona and WA = Washington"
   ]
  },
  {
   "cell_type": "markdown",
   "id": "0ce80f43-4afa-43c7-a78a-c917444da4e0",
   "metadata": {},
   "source": [
    "### Exercise 2\n",
    "\n",
    "The sales team wants to know the total number of policies sold for each type of policy. Create a pandas Series object that contains the policy types and their total number of policies sold, and then retrieve the policy type with the highest number of policies sold."
   ]
  },
  {
   "cell_type": "markdown",
   "id": "a9f13997-1555-4f98-aca6-970fda1d2c3f",
   "metadata": {},
   "source": [
    "*Hint:*\n",
    "- *Using value_counts() method simplifies this analysis.*\n",
    "- *Futhermore, there is a method that returns the index of the maximum value in a column or row.*\n"
   ]
  },
  {
   "cell_type": "code",
   "execution_count": 81,
   "id": "bcfad6c1-9af2-4b0b-9aa9-0dc5c17473c0",
   "metadata": {},
   "outputs": [
    {
     "name": "stdout",
     "output_type": "stream",
     "text": [
      "Total number of policies sold for each type:\n",
      "Policy Type\n",
      "Personal Auto     780\n",
      "Corporate Auto    234\n",
      "Special Auto       57\n",
      "Name: count, dtype: int64\n",
      "Most sold:\n",
      "Personal Auto\n"
     ]
    }
   ],
   "source": [
    "count_policy_types = df[\"Policy Type\"].value_counts()\n",
    "print(\"Total number of policies sold for each type:\")\n",
    "print(count_policy_types)\n",
    "print(\"Most sold:\")\n",
    "most_sold_policy = count_policy_types.idxmax()\n",
    "print(most_sold_policy)"
   ]
  },
  {
   "cell_type": "markdown",
   "id": "0b863fd3-bf91-4d5d-86eb-be29ed9f5b70",
   "metadata": {},
   "source": [
    "### Exercise 3\n",
    "\n",
    "The sales team wants to know if customers with Personal Auto have a lower income than those with Corporate Auto. How does the average income compare between the two policy types?"
   ]
  },
  {
   "cell_type": "markdown",
   "id": "b1386d75-2810-4aa1-93e0-9485aa12d552",
   "metadata": {},
   "source": [
    "- Use *loc* to create two dataframes: one containing only Personal Auto policies and one containing only Corporate Auto policies.\n",
    "- Calculate the average income for each policy.\n",
    "- Print the results."
   ]
  },
  {
   "cell_type": "code",
   "execution_count": 99,
   "id": "0c0563cf-6f8b-463d-a321-651a972f82e5",
   "metadata": {},
   "outputs": [
    {
     "name": "stdout",
     "output_type": "stream",
     "text": [
      "Mean income for 'Personal Auto' policy type: 38180.7\n",
      "Mean income for 'Corporate Auto' policy type: 41390.31\n"
     ]
    }
   ],
   "source": [
    "df_personal_auto = df[df[\"Policy Type\"] == \"Personal Auto\"][[\"Policy Type\", \"Income\"]]\n",
    "mean_income = round(df_personal_auto[\"Income\"].mean(), 2)\n",
    "print(\"Mean income for 'Personal Auto' policy type:\", mean_income)\n",
    "\n",
    "df_corporate_auto = df[df[\"Policy Type\"] == \"Corporate Auto\"][[\"Policy Type\", \"Income\"]]\n",
    "mean_income = round(df_corporate_auto[\"Income\"].mean(), 2)\n",
    "print(\"Mean income for 'Corporate Auto' policy type:\", mean_income)"
   ]
  },
  {
   "cell_type": "markdown",
   "id": "80b16c27-f4a5-4727-a229-1f88671cf4e2",
   "metadata": {},
   "source": [
    "### Bonus: Exercise 4\n"
   ]
  },
  {
   "cell_type": "markdown",
   "id": "ac584986-299b-475f-ac2e-928c16c3f512",
   "metadata": {},
   "source": [
    "Your goal is to identify customers with a high policy claim amount.\n",
    "\n",
    "Instructions:\n",
    "\n",
    "- Review again the statistics for total claim amount to gain an understanding of the data.\n",
    "- To identify potential areas for improving customer retention and profitability, we want to focus on customers with a high policy claim amount. Consider customers with a high policy claim amount to be those in the top 25% of the total claim amount. Create a pandas DataFrame object that contains information about customers with a policy claim amount greater than the 75th percentile.\n",
    "- Use DataFrame methods to calculate summary statistics about the high policy claim amount data. "
   ]
  },
  {
   "cell_type": "markdown",
   "id": "4e3af5f1-6023-4b05-9c01-d05392daa650",
   "metadata": {},
   "source": [
    "*Note: When analyzing data, we often want to focus on certain groups of values to gain insights. Percentiles are a useful tool to help us define these groups. A percentile is a measure that tells us what percentage of values in a dataset are below a certain value. For example, the 75th percentile represents the value below which 75% of the data falls. Similarly, the 25th percentile represents the value below which 25% of the data falls. When we talk about the top 25%, we are referring to the values that fall above the 75th percentile, which represent the top quarter of the data. On the other hand, when we talk about the bottom 25%, we are referring to the values that fall below the 25th percentile, which represent the bottom quarter of the data. By focusing on these groups, we can identify patterns and trends that may be useful for making decisions and taking action.*\n",
    "\n",
    "*Hint: look for a method that gives you the percentile or quantile 0.75 and 0.25 for a Pandas Series.*"
   ]
  },
  {
   "cell_type": "markdown",
   "id": "2d234634-50bd-41e0-88f7-d5ba684455d1",
   "metadata": {},
   "source": [
    "*Hint 2: check `Boolean selection according to the values of a single column` in https://towardsdatascience.com/filtering-data-frames-in-pandas-b570b1f834b9*"
   ]
  },
  {
   "cell_type": "code",
   "execution_count": 109,
   "id": "b731bca6-a760-4860-a27b-a33efa712ce0",
   "metadata": {},
   "outputs": [
    {
     "name": "stdout",
     "output_type": "stream",
     "text": [
      "Customer\n",
      "RB50392    1\n",
      "HJ15383    1\n",
      "AO74776    1\n",
      "HQ82233    1\n",
      "OL72737    1\n",
      "          ..\n",
      "RO26085    1\n",
      "ES57969    1\n",
      "JK55587    1\n",
      "RN97635    1\n",
      "MY31220    1\n",
      "Name: count, Length: 1071, dtype: int64\n",
      "Customer\n",
      "RB50392    0.093371\n",
      "HJ15383    0.093371\n",
      "AO74776    0.093371\n",
      "HQ82233    0.093371\n",
      "OL72737    0.093371\n",
      "             ...   \n",
      "RO26085    0.093371\n",
      "ES57969    0.093371\n",
      "JK55587    0.093371\n",
      "RN97635    0.093371\n",
      "MY31220    0.093371\n",
      "Name: proportion, Length: 1071, dtype: float64\n",
      "ST\n",
      "Oregon        320\n",
      "California    211\n",
      "Arizona       186\n",
      "Cali          120\n",
      "Nevada         98\n",
      "Washington     81\n",
      "WA             30\n",
      "AZ             25\n",
      "Name: count, dtype: int64\n",
      "ST\n",
      "Oregon        29.878618\n",
      "California    19.701214\n",
      "Arizona       17.366947\n",
      "Cali          11.204482\n",
      "Nevada         9.150327\n",
      "Washington     7.563025\n",
      "WA             2.801120\n",
      "AZ             2.334267\n",
      "Name: proportion, dtype: float64\n",
      "GENDER\n",
      "F         457\n",
      "M         413\n",
      "Male       39\n",
      "female     28\n",
      "Femal      17\n",
      "Name: count, dtype: int64\n",
      "GENDER\n",
      "F         47.903564\n",
      "M         43.291405\n",
      "Male       4.088050\n",
      "female     2.935010\n",
      "Femal      1.781971\n",
      "Name: proportion, dtype: float64\n",
      "Education\n",
      "Bachelor                324\n",
      "College                 313\n",
      "High School or Below    296\n",
      "Master                   94\n",
      "Doctor                   37\n",
      "Bachelors                 7\n",
      "Name: count, dtype: int64\n",
      "Education\n",
      "Bachelor                30.252101\n",
      "College                 29.225023\n",
      "High School or Below    27.637722\n",
      "Master                   8.776844\n",
      "Doctor                   3.454715\n",
      "Bachelors                0.653595\n",
      "Name: proportion, dtype: float64\n",
      "Policy Type\n",
      "Personal Auto     780\n",
      "Corporate Auto    234\n",
      "Special Auto       57\n",
      "Name: count, dtype: int64\n",
      "Policy Type\n",
      "Personal Auto     72.829132\n",
      "Corporate Auto    21.848739\n",
      "Special Auto       5.322129\n",
      "Name: proportion, dtype: float64\n",
      "Vehicle Class\n",
      "Four-Door Car    576\n",
      "Two-Door Car     205\n",
      "SUV              199\n",
      "Sports Car        57\n",
      "Luxury SUV        20\n",
      "Luxury Car        14\n",
      "Name: count, dtype: int64\n",
      "Vehicle Class\n",
      "Four-Door Car    53.781513\n",
      "Two-Door Car     19.140990\n",
      "SUV              18.580766\n",
      "Sports Car        5.322129\n",
      "Luxury SUV        1.867414\n",
      "Luxury Car        1.307190\n",
      "Name: proportion, dtype: float64\n"
     ]
    }
   ],
   "source": [
    "# 75%  income = 64631 (calcualated before)\n",
    "\n",
    "income_threshold = 64631\n",
    "\n",
    "best_customers = df[(df[\"Income\"] > income_threshold)]\n",
    "\n",
    "best_customers.describe()\n",
    "categorical_columns = ['Customer', 'ST', 'GENDER', 'Education', 'Policy Type', 'Vehicle Class']\n",
    "\n",
    "for col in categorical_columns:\n",
    "    freq = df[col].value_counts()\n",
    "    perc = df[col].value_counts(normalize=True) * 100\n",
    "    print(freq)\n",
    "    print(perc)\n",
    "\n",
    "\"\"\"\n",
    "The majority of best customers are from Oregon\n",
    "Slighlty more women than men\n",
    "Mostly bachelor degree or college \n",
    "four-door cars is the most popular (over 50%)\n",
    "mostly personal auto policy is purchased\n"
   ]
  }
 ],
 "metadata": {
  "kernelspec": {
   "display_name": "Python 3 (ipykernel)",
   "language": "python",
   "name": "python3"
  },
  "language_info": {
   "codemirror_mode": {
    "name": "ipython",
    "version": 3
   },
   "file_extension": ".py",
   "mimetype": "text/x-python",
   "name": "python",
   "nbconvert_exporter": "python",
   "pygments_lexer": "ipython3",
   "version": "3.11.7"
  }
 },
 "nbformat": 4,
 "nbformat_minor": 5
}
